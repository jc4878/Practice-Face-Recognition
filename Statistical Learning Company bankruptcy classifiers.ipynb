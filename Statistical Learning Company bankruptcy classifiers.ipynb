{
 "cells": [
  {
   "cell_type": "markdown",
   "metadata": {},
   "source": [
    "# Statistical Learning: Company Bankruptcy Classifiers"
   ]
  },
  {
   "cell_type": "code",
   "execution_count": 1,
   "metadata": {},
   "outputs": [
    {
     "data": {
      "text/plain": [
       "((6859, 100),\n",
       "    Default  EBITDA08  EBITDA09  EBITDA10  EBITDA11  EBITDA12  EBITDA13  \\\n",
       " 0        1     250.9     151.5     177.2     191.5     190.8     127.1   \n",
       " 1        1     303.8     296.4     261.7     288.1     270.4     205.1   \n",
       " \n",
       "    EBITDA14  EBITDA15  EBITDA16    ...      UnlFC17  EBITDA_avg  IntExp_avg  \\\n",
       " 0     122.5     147.2     136.7    ...       114.54     164.494    -106.821   \n",
       " 1     176.9     227.4     211.5    ...        65.70     243.030    -186.860   \n",
       " \n",
       "    DEratio_avg  TotalAsset_avg  Op_due_avg  FCFDebt_avg  CurrentR_avg  \\\n",
       " 0      216.125         1341.81      81.220      0.21090        27.398   \n",
       " 1        0.000         1231.82      74.436     -0.04883        15.846   \n",
       " \n",
       "    DAratio_avg  UnlCF_avg  \n",
       " 0       164.61    125.994  \n",
       " 1       374.75    148.676  \n",
       " \n",
       " [2 rows x 100 columns])"
      ]
     },
     "execution_count": 1,
     "metadata": {},
     "output_type": "execute_result"
    }
   ],
   "source": [
    "import pandas as pd\n",
    "import dash\n",
    "from dash.dependencies import Input, Output\n",
    "import dash_core_components as dcc\n",
    "import dash_html_components as html\n",
    "import plotly.graph_objs as go\n",
    "import numpy as np\n",
    "from sklearn.model_selection import train_test_split\n",
    "from sklearn import svm\n",
    "\n",
    "df = pd.read_csv('Credit.csv')\n",
    "df.shape, df.head(2)\n",
    "\n"
   ]
  },
  {
   "cell_type": "code",
   "execution_count": 2,
   "metadata": {},
   "outputs": [
    {
     "data": {
      "text/plain": [
       "(   EBITDA08  EBITDA09  EBITDA10  EBITDA11  EBITDA12  EBITDA13  EBITDA14  \\\n",
       " 0     250.9     151.5     177.2     191.5     190.8     127.1     122.5   \n",
       " 1     303.8     296.4     261.7     288.1     270.4     205.1     176.9   \n",
       " 2      67.8      23.4      38.6      64.8      74.9     114.9     218.4   \n",
       " \n",
       "    EBITDA15  EBITDA16  EBITDA17    ...      UnlFC17  EBITDA_avg  IntExp_avg  \\\n",
       " 0     147.2     136.7    149.54    ...      114.540     164.494   -106.8210   \n",
       " 1     227.4     211.5    189.00    ...       65.700     243.030   -186.8600   \n",
       " 2      77.5      28.7     70.90    ...      -87.742      77.990    -11.2299   \n",
       " \n",
       "    DEratio_avg  TotalAsset_avg  Op_due_avg  FCFDebt_avg  CurrentR_avg  \\\n",
       " 0      216.125         1341.81     81.2200      0.21090        27.398   \n",
       " 1        0.000         1231.82     74.4360     -0.04883        15.846   \n",
       " 2       41.642          760.03      2.2415      0.00000         0.000   \n",
       " \n",
       "    DAratio_avg  UnlCF_avg  \n",
       " 0      164.610   125.9940  \n",
       " 1      374.750   148.6760  \n",
       " 2       26.707   -96.5162  \n",
       " \n",
       " [3 rows x 99 columns], 0    1\n",
       " 1    1\n",
       " 2    1\n",
       " Name: Default, dtype: int64)"
      ]
     },
     "execution_count": 2,
     "metadata": {},
     "output_type": "execute_result"
    }
   ],
   "source": [
    "Y = df['Default']\n",
    "X = df.iloc[:,1:]\n",
    "X.head(3), Y.head(3)\n",
    "\n"
   ]
  },
  {
   "cell_type": "code",
   "execution_count": 3,
   "metadata": {},
   "outputs": [],
   "source": [
    "X_train, X_test, y_train, y_test = train_test_split(df, Y, test_size=0.4, random_state=0)"
   ]
  },
  {
   "cell_type": "code",
   "execution_count": 4,
   "metadata": {},
   "outputs": [
    {
     "data": {
      "text/plain": [
       "0.9857871720116618"
      ]
     },
     "execution_count": 4,
     "metadata": {},
     "output_type": "execute_result"
    }
   ],
   "source": [
    "## Linear SVM classifier\n",
    "clSVM = svm.SVC(kernel='linear', C=1).fit(X_train, y_train)\n",
    "clSVM.score(X_test, y_test)     \n",
    "\n"
   ]
  },
  {
   "cell_type": "code",
   "execution_count": 5,
   "metadata": {},
   "outputs": [
    {
     "name": "stderr",
     "output_type": "stream",
     "text": [
      "/anaconda3/lib/python3.6/site-packages/sklearn/preprocessing/label.py:151: DeprecationWarning:\n",
      "\n",
      "The truth value of an empty array is ambiguous. Returning False, but in future this will result in an error. Use `array.size > 0` to check that an array is not empty.\n",
      "\n"
     ]
    },
    {
     "data": {
      "text/plain": [
       "1.0"
      ]
     },
     "execution_count": 5,
     "metadata": {},
     "output_type": "execute_result"
    }
   ],
   "source": [
    "## Xgboost\n",
    "from xgboost.sklearn import XGBClassifier  \n",
    "#from xgboost.sklearn import XGBRegressor\n",
    "\n",
    "clXg = XGBClassifier()  # and for classifier  \n",
    "clXg.fit(X_train, y_train)  \n",
    "clXg.score(X_test, y_test)  \n",
    "\n"
   ]
  },
  {
   "cell_type": "code",
   "execution_count": 6,
   "metadata": {},
   "outputs": [
    {
     "name": "stdout",
     "output_type": "stream",
     "text": [
      "Accuracy: 0.99 (+/- 0.00)\n"
     ]
    },
    {
     "data": {
      "text/plain": [
       "(0.9919825072886297, None)"
      ]
     },
     "execution_count": 6,
     "metadata": {},
     "output_type": "execute_result"
    }
   ],
   "source": [
    "## Random Forest\n",
    "from sklearn.ensemble import RandomForestClassifier\n",
    "clRF = RandomForestClassifier(max_depth=2)#, random_state=0)\n",
    "clRF.fit(X_train, y_train)\n",
    "from sklearn.model_selection import cross_val_score\n",
    "score_RF = cross_val_score(clRF, df, Y, cv=5)\n",
    "clRF.score(X_test,y_test), print(\"Accuracy: %0.2f (+/- %0.2f)\" % (score_RF.mean(), score_RF.std() * 2))\n",
    "\n"
   ]
  },
  {
   "cell_type": "code",
   "execution_count": 7,
   "metadata": {},
   "outputs": [
    {
     "data": {
      "text/plain": [
       "0.8633381924198251"
      ]
     },
     "execution_count": 7,
     "metadata": {},
     "output_type": "execute_result"
    }
   ],
   "source": [
    "## Logistic Regression\n",
    "from sklearn.linear_model import LogisticRegression\n",
    "from sklearn import metrics\n",
    "\n",
    "logi = LogisticRegression()\n",
    "logi.fit(X_train, y_train)\n",
    "logi.score(X_test,y_test)\n",
    "\n"
   ]
  },
  {
   "cell_type": "markdown",
   "metadata": {},
   "source": [
    "# Confusion Matrices"
   ]
  },
  {
   "cell_type": "code",
   "execution_count": 8,
   "metadata": {},
   "outputs": [
    {
     "name": "stderr",
     "output_type": "stream",
     "text": [
      "/anaconda3/lib/python3.6/site-packages/sklearn/preprocessing/label.py:151: DeprecationWarning:\n",
      "\n",
      "The truth value of an empty array is ambiguous. Returning False, but in future this will result in an error. Use `array.size > 0` to check that an array is not empty.\n",
      "\n"
     ]
    },
    {
     "data": {
      "text/plain": [
       "array([[2717,    0],\n",
       "       [  22,    5]])"
      ]
     },
     "execution_count": 8,
     "metadata": {},
     "output_type": "execute_result"
    }
   ],
   "source": [
    "## Confusion Matrices\n",
    "from sklearn.metrics import confusion_matrix\n",
    "Y_true = y_test\n",
    "Y_pred_RF = clRF.predict(X_test)\n",
    "Y_pred_logi = logi.predict(X_test)\n",
    "Y_pred_SVM = clSVM.predict(X_test)\n",
    "Y_pred_XG = clXg.predict(X_test)\n",
    "\n",
    "confusion_matrix(Y_true,Y_pred_RF)"
   ]
  },
  {
   "cell_type": "code",
   "execution_count": 9,
   "metadata": {},
   "outputs": [
    {
     "data": {
      "text/plain": [
       "array([[2360,  357],\n",
       "       [  18,    9]])"
      ]
     },
     "execution_count": 9,
     "metadata": {},
     "output_type": "execute_result"
    }
   ],
   "source": [
    "confusion_matrix(Y_true,Y_pred_logi)"
   ]
  },
  {
   "cell_type": "code",
   "execution_count": 10,
   "metadata": {},
   "outputs": [
    {
     "data": {
      "text/plain": [
       "array([[2690,   27],\n",
       "       [  12,   15]])"
      ]
     },
     "execution_count": 10,
     "metadata": {},
     "output_type": "execute_result"
    }
   ],
   "source": [
    "confusion_matrix(Y_true,Y_pred_SVM)"
   ]
  },
  {
   "cell_type": "code",
   "execution_count": 11,
   "metadata": {},
   "outputs": [
    {
     "data": {
      "text/plain": [
       "array([[2717,    0],\n",
       "       [   0,   27]])"
      ]
     },
     "execution_count": 11,
     "metadata": {},
     "output_type": "execute_result"
    }
   ],
   "source": [
    "confusion_matrix(Y_true,Y_pred_XG)"
   ]
  },
  {
   "cell_type": "code",
   "execution_count": null,
   "metadata": {},
   "outputs": [],
   "source": []
  }
 ],
 "metadata": {
  "kernelspec": {
   "display_name": "Python 3",
   "language": "python",
   "name": "python3"
  },
  "language_info": {
   "codemirror_mode": {
    "name": "ipython",
    "version": 3
   },
   "file_extension": ".py",
   "mimetype": "text/x-python",
   "name": "python",
   "nbconvert_exporter": "python",
   "pygments_lexer": "ipython3",
   "version": "3.6.4"
  }
 },
 "nbformat": 4,
 "nbformat_minor": 2
}
